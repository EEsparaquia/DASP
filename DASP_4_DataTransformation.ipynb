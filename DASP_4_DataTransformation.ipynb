{
 "cells": [
  {
   "cell_type": "code",
   "execution_count": null,
   "metadata": {},
   "outputs": [],
   "source": [
    "### Data Trnaformation\n",
    "## Transforming data\n",
    "## Statistical analysis"
   ]
  },
  {
   "cell_type": "code",
   "execution_count": 2,
   "metadata": {},
   "outputs": [],
   "source": [
    "### Build the environment\n",
    "\n",
    "import numpy as np\n",
    "import pandas as pd\n",
    "import pandas_datareader as pdr\n",
    "import matplotlib.pyplot as plt\n",
    "plt.rcParams['figure.figsize'] = (10,6)\n",
    "from pandas.plotting import register_matplotlib_converters\n",
    "register_matplotlib_converters()\n",
    "import seaborn as sns\n",
    "%matplotlib inline"
   ]
  },
  {
   "cell_type": "code",
   "execution_count": 3,
   "metadata": {},
   "outputs": [],
   "source": [
    "### Going back a lottle more than a year to account for trimming\n",
    "goog = pdr.get_data_yahoo('GOOG', '20150101')"
   ]
  },
  {
   "cell_type": "code",
   "execution_count": 4,
   "metadata": {},
   "outputs": [
    {
     "name": "stdout",
     "output_type": "stream",
     "text": [
      "<class 'pandas.core.frame.DataFrame'>\n",
      "DatetimeIndex: 1573 entries, 2015-01-02 to 2021-04-01\n",
      "Data columns (total 6 columns):\n",
      " #   Column     Non-Null Count  Dtype  \n",
      "---  ------     --------------  -----  \n",
      " 0   High       1573 non-null   float64\n",
      " 1   Low        1573 non-null   float64\n",
      " 2   Open       1573 non-null   float64\n",
      " 3   Close      1573 non-null   float64\n",
      " 4   Volume     1573 non-null   float64\n",
      " 5   Adj Close  1573 non-null   float64\n",
      "dtypes: float64(6)\n",
      "memory usage: 86.0 KB\n"
     ]
    }
   ],
   "source": [
    "### To look some of the metadata we are gathering\n",
    "goog.info()"
   ]
  },
  {
   "cell_type": "code",
   "execution_count": 6,
   "metadata": {},
   "outputs": [],
   "source": [
    "### We need to clean up the data a little bit, for example Adj Close is not needed it\n",
    "goog.drop(columns=['Adj Close'], inplace=True)"
   ]
  },
  {
   "cell_type": "code",
   "execution_count": 9,
   "metadata": {},
   "outputs": [],
   "source": [
    "### Now, in order to add more value into the data,we need to calculate the followed\n",
    "## Price Change\n",
    "goog[\"Change\"] = goog.Close.diff()\n",
    "\n",
    "## Instantaneous rate of return, is the log of the close, the difference\n",
    "goog['Return'] = np.log(goog.Close).diff()\n",
    "\n",
    "## One month of rolling standard diviation, Volatility of that 'Return' not the normal price\n",
    "goog['Volatility'] = goog['Return'].rolling(21).std()\n",
    "\n",
    "## Expected change, through the Rolling volatility as one standard diviation move: Expected Change\n",
    "## Adding shift(1) at the end to avoid the noice of today's since the most recent value can't be calculated\n",
    "goog['Exp Change'] = (goog.Close * goog.Volatility).shift(1)\n",
    "\n",
    "## Compare the Exp Change with the actual price change: Mgnitude\n",
    "goog[\"Magnitude\"] = (goog.Change / goog['Exp Change'])\n",
    "\n",
    "## Get the absolute value of Magnitude\n",
    "goog[\"Abs Magnitude\"] = np.abs(goog.Magnitude)"
   ]
  },
  {
   "cell_type": "code",
   "execution_count": 10,
   "metadata": {},
   "outputs": [
    {
     "data": {
      "text/html": [
       "<div>\n",
       "<style scoped>\n",
       "    .dataframe tbody tr th:only-of-type {\n",
       "        vertical-align: middle;\n",
       "    }\n",
       "\n",
       "    .dataframe tbody tr th {\n",
       "        vertical-align: top;\n",
       "    }\n",
       "\n",
       "    .dataframe thead th {\n",
       "        text-align: right;\n",
       "    }\n",
       "</style>\n",
       "<table border=\"1\" class=\"dataframe\">\n",
       "  <thead>\n",
       "    <tr style=\"text-align: right;\">\n",
       "      <th></th>\n",
       "      <th>High</th>\n",
       "      <th>Low</th>\n",
       "      <th>Open</th>\n",
       "      <th>Close</th>\n",
       "      <th>Volume</th>\n",
       "      <th>Change</th>\n",
       "      <th>Return</th>\n",
       "      <th>Volatility</th>\n",
       "      <th>Exp Change</th>\n",
       "      <th>Magnitude</th>\n",
       "      <th>Abs Magnitude</th>\n",
       "    </tr>\n",
       "    <tr>\n",
       "      <th>Date</th>\n",
       "      <th></th>\n",
       "      <th></th>\n",
       "      <th></th>\n",
       "      <th></th>\n",
       "      <th></th>\n",
       "      <th></th>\n",
       "      <th></th>\n",
       "      <th></th>\n",
       "      <th></th>\n",
       "      <th></th>\n",
       "      <th></th>\n",
       "    </tr>\n",
       "  </thead>\n",
       "  <tbody>\n",
       "    <tr>\n",
       "      <th>2015-02-04</th>\n",
       "      <td>531.213562</td>\n",
       "      <td>519.842773</td>\n",
       "      <td>527.790955</td>\n",
       "      <td>521.328674</td>\n",
       "      <td>1663655.0</td>\n",
       "      <td>-6.462280</td>\n",
       "      <td>-0.012320</td>\n",
       "      <td>0.017809</td>\n",
       "      <td>9.621236</td>\n",
       "      <td>-0.671668</td>\n",
       "      <td>0.671668</td>\n",
       "    </tr>\n",
       "    <tr>\n",
       "      <th>2015-02-05</th>\n",
       "      <td>527.052979</td>\n",
       "      <td>520.660522</td>\n",
       "      <td>522.355896</td>\n",
       "      <td>526.135498</td>\n",
       "      <td>1849765.0</td>\n",
       "      <td>4.806824</td>\n",
       "      <td>0.009178</td>\n",
       "      <td>0.016991</td>\n",
       "      <td>9.284528</td>\n",
       "      <td>0.517724</td>\n",
       "      <td>0.517724</td>\n",
       "    </tr>\n",
       "    <tr>\n",
       "      <th>2015-02-06</th>\n",
       "      <td>535.729126</td>\n",
       "      <td>524.968689</td>\n",
       "      <td>526.195312</td>\n",
       "      <td>529.546143</td>\n",
       "      <td>1763529.0</td>\n",
       "      <td>3.410645</td>\n",
       "      <td>0.006462</td>\n",
       "      <td>0.016986</td>\n",
       "      <td>8.939513</td>\n",
       "      <td>0.381525</td>\n",
       "      <td>0.381525</td>\n",
       "    </tr>\n",
       "    <tr>\n",
       "      <th>2015-02-09</th>\n",
       "      <td>530.543396</td>\n",
       "      <td>524.579773</td>\n",
       "      <td>526.554321</td>\n",
       "      <td>526.384827</td>\n",
       "      <td>1267771.0</td>\n",
       "      <td>-3.161316</td>\n",
       "      <td>-0.005988</td>\n",
       "      <td>0.017092</td>\n",
       "      <td>8.995020</td>\n",
       "      <td>-0.351452</td>\n",
       "      <td>0.351452</td>\n",
       "    </tr>\n",
       "    <tr>\n",
       "      <th>2015-02-10</th>\n",
       "      <td>536.227783</td>\n",
       "      <td>525.477295</td>\n",
       "      <td>527.850769</td>\n",
       "      <td>535.469849</td>\n",
       "      <td>1749891.0</td>\n",
       "      <td>9.085022</td>\n",
       "      <td>0.017112</td>\n",
       "      <td>0.017004</td>\n",
       "      <td>8.997232</td>\n",
       "      <td>1.009757</td>\n",
       "      <td>1.009757</td>\n",
       "    </tr>\n",
       "  </tbody>\n",
       "</table>\n",
       "</div>"
      ],
      "text/plain": [
       "                  High         Low        Open       Close     Volume  \\\n",
       "Date                                                                    \n",
       "2015-02-04  531.213562  519.842773  527.790955  521.328674  1663655.0   \n",
       "2015-02-05  527.052979  520.660522  522.355896  526.135498  1849765.0   \n",
       "2015-02-06  535.729126  524.968689  526.195312  529.546143  1763529.0   \n",
       "2015-02-09  530.543396  524.579773  526.554321  526.384827  1267771.0   \n",
       "2015-02-10  536.227783  525.477295  527.850769  535.469849  1749891.0   \n",
       "\n",
       "              Change    Return  Volatility  Exp Change  Magnitude  \\\n",
       "Date                                                                \n",
       "2015-02-04 -6.462280 -0.012320    0.017809    9.621236  -0.671668   \n",
       "2015-02-05  4.806824  0.009178    0.016991    9.284528   0.517724   \n",
       "2015-02-06  3.410645  0.006462    0.016986    8.939513   0.381525   \n",
       "2015-02-09 -3.161316 -0.005988    0.017092    8.995020  -0.351452   \n",
       "2015-02-10  9.085022  0.017112    0.017004    8.997232   1.009757   \n",
       "\n",
       "            Abs Magnitude  \n",
       "Date                       \n",
       "2015-02-04       0.671668  \n",
       "2015-02-05       0.517724  \n",
       "2015-02-06       0.381525  \n",
       "2015-02-09       0.351452  \n",
       "2015-02-10       1.009757  "
      ]
     },
     "execution_count": 10,
     "metadata": {},
     "output_type": "execute_result"
    }
   ],
   "source": [
    "### Get rid of missing data, NaN values mainly\n",
    "goog.dropna(inplace=True)\n",
    "goog.head()"
   ]
  },
  {
   "cell_type": "code",
   "execution_count": 11,
   "metadata": {},
   "outputs": [
    {
     "data": {
      "text/plain": [
       "count    1551.000000\n",
       "mean        0.078438\n",
       "std         1.214080\n",
       "min       -11.971994\n",
       "25%        -0.481486\n",
       "50%         0.073474\n",
       "75%         0.636158\n",
       "max        12.320565\n",
       "Name: Magnitude, dtype: float64"
      ]
     },
     "execution_count": 11,
     "metadata": {},
     "output_type": "execute_result"
    }
   ],
   "source": [
    "### Some of the statistical analysis is to descriobe the data and look the behaviur\n",
    "## WE spect the Magnitude for exaple be close to zero\n",
    "goog['Magnitude'].describe()"
   ]
  },
  {
   "cell_type": "code",
   "execution_count": 13,
   "metadata": {},
   "outputs": [
    {
     "name": "stderr",
     "output_type": "stream",
     "text": [
      "C:\\Users\\jusamano\\AppData\\Local\\Continuum\\anaconda3\\lib\\site-packages\\seaborn\\distributions.py:2557: FutureWarning: `distplot` is a deprecated function and will be removed in a future version. Please adapt your code to use either `displot` (a figure-level function with similar flexibility) or `histplot` (an axes-level function for histograms).\n",
      "  warnings.warn(msg, FutureWarning)\n",
      "C:\\Users\\jusamano\\AppData\\Local\\Continuum\\anaconda3\\lib\\site-packages\\matplotlib\\cbook\\__init__.py:1402: FutureWarning: Support for multi-dimensional indexing (e.g. `obj[:, None]`) is deprecated and will be removed in a future version.  Convert to a numpy array before indexing instead.\n",
      "  x[:, None]\n",
      "C:\\Users\\jusamano\\AppData\\Local\\Continuum\\anaconda3\\lib\\site-packages\\matplotlib\\axes\\_base.py:276: FutureWarning: Support for multi-dimensional indexing (e.g. `obj[:, None]`) is deprecated and will be removed in a future version.  Convert to a numpy array before indexing instead.\n",
      "  x = x[:, np.newaxis]\n",
      "C:\\Users\\jusamano\\AppData\\Local\\Continuum\\anaconda3\\lib\\site-packages\\matplotlib\\axes\\_base.py:278: FutureWarning: Support for multi-dimensional indexing (e.g. `obj[:, None]`) is deprecated and will be removed in a future version.  Convert to a numpy array before indexing instead.\n",
      "  y = y[:, np.newaxis]\n"
     ]
    },
    {
     "data": {
      "text/plain": [
       "<matplotlib.axes._subplots.AxesSubplot at 0x28d8d51ac88>"
      ]
     },
     "execution_count": 13,
     "metadata": {},
     "output_type": "execute_result"
    },
    {
     "data": {
      "image/png": "[encoded data removed]",
      "text/plain": [
       "<Figure size 432x288 with 1 Axes>"
      ]
     },
     "metadata": {
      "needs_background": "light"
     },
     "output_type": "display_data"
    }
   ],
   "source": [
    "### If we want to have an idea in terms of graphically, we can use Matplotlib or seaborn\n",
    "sns.distplot(goog['Magnitude'])"
   ]
  },
  {
   "cell_type": "code",
   "execution_count": 15,
   "metadata": {},
   "outputs": [
    {
     "data": {
      "text/plain": [
       "<matplotlib.collections.PathCollection at 0x28d8bb45108>"
      ]
     },
     "execution_count": 15,
     "metadata": {},
     "output_type": "execute_result"
    },
    {
     "data": {
      "image/png": "[encoded data removed]",
      "text/plain": [
       "<Figure size 432x288 with 1 Axes>"
      ]
     },
     "metadata": {
      "needs_background": "light"
     },
     "output_type": "display_data"
    }
   ],
   "source": [
    "### Absulute change vs the actual change. By adding alpha=.4 we can add more densitu\n",
    "plt.scatter(goog.Change, goog['Abs Magnitude'], alpha=.4)\n",
    "\n",
    "### we can see outliars, we don't see that much actually"
   ]
  },
  {
   "cell_type": "code",
   "execution_count": 16,
   "metadata": {},
   "outputs": [
    {
     "data": {
      "text/plain": [
       "<matplotlib.lines.Line2D at 0x28d8d6fcf48>"
      ]
     },
     "execution_count": 16,
     "metadata": {},
     "output_type": "execute_result"
    },
    {
     "data": {
      "image/png": "[encoded data removed]",
      "text/plain": [
       "<Figure size 432x288 with 1 Axes>"
      ]
     },
     "metadata": {
      "needs_background": "light"
     },
     "output_type": "display_data"
    }
   ],
   "source": [
    "### We want to know what is volatily for google over this period\n",
    "date = np.array(goog.index)\n",
    "plt.plot(goog.Volatility)\n",
    "plt.axhline(goog.Volatility.mean(), c='k')"
   ]
  },
  {
   "cell_type": "code",
   "execution_count": null,
   "metadata": {},
   "outputs": [],
   "source": []
  }
 ],
 "metadata": {
  "kernelspec": {
   "display_name": "Python 3",
   "language": "python",
   "name": "python3"
  },
  "language_info": {
   "codemirror_mode": {
    "name": "ipython",
    "version": 3
   },
   "file_extension": ".py",
   "mimetype": "text/x-python",
   "name": "python",
   "nbconvert_exporter": "python",
   "pygments_lexer": "ipython3",
   "version": "3.7.4"
  }
 },
 "nbformat": 4,
 "nbformat_minor": 2
}
