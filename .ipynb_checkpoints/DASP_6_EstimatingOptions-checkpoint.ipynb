{
 "cells": [
  {
   "cell_type": "code",
   "execution_count": 1,
   "metadata": {},
   "outputs": [],
   "source": [
    "### Estimiting options value\n",
    "## Black-Scholes Model\n",
    "## Monte Carlo Simulation"
   ]
  },
  {
   "cell_type": "code",
   "execution_count": 2,
   "metadata": {},
   "outputs": [],
   "source": [
    "### Build the environment\n",
    "\n",
    "import numpy as np\n",
    "import pandas as pd\n",
    "import matplotlib.pyplot as plt\n",
    "%matplotlib inline"
   ]
  },
  {
   "cell_type": "code",
   "execution_count": 5,
   "metadata": {},
   "outputs": [],
   "source": [
    "### 1.- Estimating an ending price for our fictitious stock\n",
    "\n",
    "current_price = 100\n",
    "volatility = 0.20\n",
    "risk_free_rate = 0.02\n",
    "have_of_stock_variance = 0.5\n",
    "t = 21\n",
    "YEAR = 252"
   ]
  },
  {
   "cell_type": "code",
   "execution_count": 9,
   "metadata": {},
   "outputs": [
    {
     "data": {
      "text/plain": [
       "102.58754945731525"
      ]
     },
     "execution_count": 9,
     "metadata": {},
     "output_type": "execute_result"
    }
   ],
   "source": [
    "### Stimation on the future stock price, future value\n",
    "fv = current_price * np.exp((risk_free_rate - have_of_stock_variance * volatility ** 2 ) * t/YEAR + volatility * np.sqrt(t/YEAR) * np.random.standard_normal())\n",
    "fv"
   ]
  },
  {
   "cell_type": "code",
   "execution_count": 16,
   "metadata": {},
   "outputs": [],
   "source": [
    "### 2. Using the Monte Carlo to estimate option value\n",
    "def eur_call(S, K, vol, rfr, t, I):\n",
    "    \"\"\"\n",
    "    Value of european style option\n",
    "    | - S:   Current Stock Price\n",
    "    | - K:   Option Strike Price\n",
    "    | - Vol: Annual Stock Volatility\n",
    "    | - rfr: Risk free rate (90-day tbill)\n",
    "    | - t:   Time until expiration in days 21/month\n",
    "    | - I:   Number of iterations\n",
    "    \"\"\"\n",
    "    \n",
    "    year = 252\n",
    "    St = S * np.exp((rfr - .5 * vol ** 2) * t/year + vol * np.sqrt(t/year) * np.random.standard_normal())\n",
    "    values = np.maximum(St - K, 0)\n",
    "    call = np.exp(-rfr * t/year) * np.mean(values)\n",
    "    return call"
   ]
  },
  {
   "cell_type": "code",
   "execution_count": 12,
   "metadata": {},
   "outputs": [
    {
     "name": "stdout",
     "output_type": "stream",
     "text": [
      "Help on function eur_call in module __main__:\n",
      "\n",
      "eur_call(S, K, vol, rfr, t, I)\n",
      "    Value of european style option\n",
      "    | - S:   Current Stock Price\n",
      "    | - K:   Option Strike Price\n",
      "    | - Vol: Annual Stock Volatility\n",
      "    | - rfr: Risk free rate (90-day tbill)\n",
      "    | - t:   Time until expiration in days 21/month\n",
      "    | - I:   Number of iterations\n",
      "\n"
     ]
    }
   ],
   "source": [
    "help(eur_call);"
   ]
  },
  {
   "cell_type": "raw",
   "metadata": {},
   "source": []
  },
  {
   "cell_type": "code",
   "execution_count": 26,
   "metadata": {},
   "outputs": [
    {
     "data": {
      "text/plain": [
       "4.981797303184599"
      ]
     },
     "execution_count": 26,
     "metadata": {},
     "output_type": "execute_result"
    }
   ],
   "source": [
    "eur_call(100, 100, .20, .02, 21, 50000)"
   ]
  },
  {
   "cell_type": "code",
   "execution_count": null,
   "metadata": {},
   "outputs": [],
   "source": []
  },
  {
   "cell_type": "code",
   "execution_count": null,
   "metadata": {},
   "outputs": [],
   "source": []
  }
 ],
 "metadata": {
  "kernelspec": {
   "display_name": "Python 3",
   "language": "python",
   "name": "python3"
  },
  "language_info": {
   "codemirror_mode": {
    "name": "ipython",
    "version": 3
   },
   "file_extension": ".py",
   "mimetype": "text/x-python",
   "name": "python",
   "nbconvert_exporter": "python",
   "pygments_lexer": "ipython3",
   "version": "3.7.4"
  }
 },
 "nbformat": 4,
 "nbformat_minor": 2
}
