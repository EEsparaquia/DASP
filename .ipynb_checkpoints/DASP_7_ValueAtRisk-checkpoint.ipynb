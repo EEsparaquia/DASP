{
 "cells": [
  {
   "cell_type": "code",
   "execution_count": 1,
   "metadata": {},
   "outputs": [],
   "source": [
    "### Value At Risk\n",
    "## Overview of what VaR is\n",
    "## Calculating static and probabilistic VaR with Monte Carlo Simulation\n",
    "## Measurament of \"down-side\" risk in an investment portfolio\n",
    "\n",
    "\n",
    "## Two major methods:\n",
    "#  Parametric\n",
    "#  Where we use a historical data to generat a normal distribution where we think where the stock will be\n",
    "#  Non-parametric - Use historical data direct to calculate the risk, this asumes it will behavie on the same way\n",
    "#  The methods above assumes no changes to the portfolio for time period being estimated\n",
    "\n",
    "#  Values needed:\n",
    "#   Portfolio value\n",
    "#   Estimation of volatility\n",
    "#   Time horizon\n",
    "#   Confidence level\n",
    "\n",
    "#  We can't be certain of how big a downside move may be \n",
    "#  Generally set confidence level very close to 1 so we can make statments like 99% of the time losses will not exceed\n",
    "#  We have no idea how big the loss can get beyond that confidance level"
   ]
  },
  {
   "cell_type": "code",
   "execution_count": 10,
   "metadata": {},
   "outputs": [],
   "source": [
    "### Value at Risk\n",
    "\n",
    "### Build the environment\n",
    "\n",
    "import numpy as np\n",
    "import pandas as pd\n",
    "import pandas_datareader as pdr\n",
    "import matplotlib.pyplot as plt\n",
    "%matplotlib inline"
   ]
  },
  {
   "cell_type": "code",
   "execution_count": 11,
   "metadata": {},
   "outputs": [
    {
     "name": "stdout",
     "output_type": "stream",
     "text": [
      "At 0.95 confidence level, loss will not exceed 138,483.69\n",
      "This represents a move of 1.64 standard deviation below the expected return\n"
     ]
    }
   ],
   "source": [
    "### 1. Calculate static VaR\n",
    "## For short time horizons er will be small, and therefore VaR estimations\n",
    "## will not be much influenced by it\n",
    "\n",
    "from scipy.stats import norm\n",
    "CL = 0.95\n",
    "TRADING_DAYS = 252\n",
    "portfolio_val = 950000\n",
    "volatility = 0.307\n",
    "t = 21\n",
    "cutoff = norm.ppf(CL)\n",
    "VaR = portfolio_val * volatility * np.sqrt(t/TRADING_DAYS) * cutoff\n",
    "print(\"At {:.2f} confidence level, loss will not exceed {:,.2f}\".format(CL, VaR))\n",
    "print(\"This represents a move of {:.2f} standard deviation below the expected return\".format(cutoff))"
   ]
  },
  {
   "cell_type": "code",
   "execution_count": 13,
   "metadata": {},
   "outputs": [],
   "source": [
    "### 2. Parameters of 1-stock portfolio to use in MC simulation\n",
    "aapl = 4000\n",
    "aapl_price = pdr.get_quote_yahoo('AAPL')['price']\n",
    "aapl_value = aapl * aapl_price\n",
    "aapl_value = aapl_value.at['AAPL']\n",
    "t = 21/252\n",
    "rfr = .02\n",
    "volatility = .307\n",
    "iterations = 50000"
   ]
  },
  {
   "cell_type": "code",
   "execution_count": 14,
   "metadata": {},
   "outputs": [
    {
     "data": {
      "text/plain": [
       "AAPL    123.0\n",
       "Name: price, dtype: float64"
      ]
     },
     "execution_count": 14,
     "metadata": {},
     "output_type": "execute_result"
    }
   ],
   "source": [
    "aapl_price"
   ]
  },
  {
   "cell_type": "code",
   "execution_count": 15,
   "metadata": {},
   "outputs": [],
   "source": [
    "### 3. DEfine VaR function\n",
    "def VaR(pv, rfr, vol, T, iterations):\n",
    "    end = pv * np.exp((rfr - .5 * vol ** 2) * T +\n",
    "                     vol * np.sqrt(T) * np.random.standard_normal(iterations))\n",
    "    ending_values = end - pv\n",
    "    return ending_values"
   ]
  },
  {
   "cell_type": "code",
   "execution_count": 17,
   "metadata": {},
   "outputs": [],
   "source": [
    "### 4. Run the simulation\n",
    "\n",
    "at_risk = VaR(aapl_value, rfr, volatility, t, iterations)"
   ]
  },
  {
   "cell_type": "code",
   "execution_count": 18,
   "metadata": {},
   "outputs": [
    {
     "data": {
      "image/png": "[encoded data removed]",
      "text/plain": [
       "<Figure size 432x288 with 1 Axes>"
      ]
     },
     "metadata": {},
     "output_type": "display_data"
    }
   ],
   "source": [
    "with plt.style.context('ggplot'):\n",
    "    plt.hist(at_risk, bins=50)"
   ]
  },
  {
   "cell_type": "code",
   "execution_count": 19,
   "metadata": {},
   "outputs": [
    {
     "name": "stdout",
     "output_type": "stream",
     "text": [
      "Portfolio value: $492,000\n",
      "-----------------------------------\n",
      "VaR 99% confidence level: $-92,631\n",
      "VaR 95% confidence level: $-67,673\n",
      "VaR 90% confidence level: $-53,587\n"
     ]
    }
   ],
   "source": [
    "### Look at the numerical presentation: we are interested on the left side of the graph\n",
    "\n",
    "percentiles = [1,5,10]\n",
    "print(\"Portfolio value: ${:,.0f}\".format(aapl * aapl_price[0]))\n",
    "print(\"-\" * 35)\n",
    "for value in percentiles:\n",
    "    print(\"VaR {:.0%} confidence level: ${:,.0f}\".format((100-value)/100, np.percentile(at_risk, value)))"
   ]
  },
  {
   "cell_type": "code",
   "execution_count": null,
   "metadata": {},
   "outputs": [],
   "source": []
  }
 ],
 "metadata": {
  "kernelspec": {
   "display_name": "Python 3",
   "language": "python",
   "name": "python3"
  },
  "language_info": {
   "codemirror_mode": {
    "name": "ipython",
    "version": 3
   },
   "file_extension": ".py",
   "mimetype": "text/x-python",
   "name": "python",
   "nbconvert_exporter": "python",
   "pygments_lexer": "ipython3",
   "version": "3.7.4"
  }
 },
 "nbformat": 4,
 "nbformat_minor": 2
}
